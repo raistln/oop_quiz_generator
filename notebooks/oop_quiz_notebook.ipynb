{
 "cells": [
  {
   "cell_type": "code",
   "execution_count": 1,
   "metadata": {},
   "outputs": [],
   "source": [
    "from abc import ABC, abstractmethod\n",
    "\n",
    "\n",
    "class Question(ABC):\n",
    "    @abstractmethod\n",
    "    def print(self):\n",
    "        pass\n",
    "    @abstractmethod\n",
    "    def check(self, string):\n",
    "        pass"
   ]
  },
  {
   "cell_type": "code",
   "execution_count": 2,
   "metadata": {},
   "outputs": [],
   "source": [
    "class YesNoQuestion(Question):\n",
    "\n",
    "    def __init__(self, question:str, answer:bool):\n",
    "        self.question = question\n",
    "        self.answer = answer\n",
    "    \n",
    "    def print(self):\n",
    "        print(f\"[?] {self.question} (yes/no)\")\n",
    "\n",
    "    def check(self, user_answer: str) -> bool:\n",
    "        user_answer = user_answer.lower().strip()\n",
    "        if user_answer == \"yes\" and self.answer is True:\n",
    "            return True\n",
    "        elif user_answer == \"no\" and self.answer is False:\n",
    "            return True\n",
    "        else:\n",
    "            return False\n"
   ]
  },
  {
   "cell_type": "code",
   "execution_count": 3,
   "metadata": {},
   "outputs": [],
   "source": [
    "class OpenQuestion(Question):\n",
    "    def __init__(self, question:str, answers:list):\n",
    "        self.question = question\n",
    "        self.answers = answers\n",
    "\n",
    "    def print(self):\n",
    "        print(f\"[?] {self.question}\")\n",
    "\n",
    "    def check(self, user_answer:str) -> bool:\n",
    "        user_answer = user_answer.lower().strip()\n",
    "        return user_answer in [ans.lower().strip() for ans in self.answers]"
   ]
  }
 ],
 "metadata": {
  "kernelspec": {
   "display_name": "Python 3",
   "language": "python",
   "name": "python3"
  },
  "language_info": {
   "codemirror_mode": {
    "name": "ipython",
    "version": 3
   },
   "file_extension": ".py",
   "mimetype": "text/x-python",
   "name": "python",
   "nbconvert_exporter": "python",
   "pygments_lexer": "ipython3",
   "version": "3.13.2"
  }
 },
 "nbformat": 4,
 "nbformat_minor": 2
}
